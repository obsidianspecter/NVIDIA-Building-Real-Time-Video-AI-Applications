{
 "cells": [
  {
   "cell_type": "markdown",
   "metadata": {},
   "source": [
    "<a href=\"https://www.nvidia.com/dli\"> <img src=\"images/DLI_Header.png\" alt=\"Header\" style=\"width: 400px;\"/> </a>"
   ]
  },
  {
   "cell_type": "markdown",
   "metadata": {},
   "source": [
    "# Building Real-Time Video AI Applications\n",
    "Welcome to the NVIDIA DLI _Building Real-Time Video AI Applications_ lab. In this lab, you will learn how to build and maintain hardware-accelerated video AI applications using NVIDIA's tools. In order to create a Real-Time Video AI Application, we will use NVIDIA's _DeepStream_, _TAO Toolkit_, and _TensorRT_. "
   ]
  },
  {
   "cell_type": "markdown",
   "metadata": {},
   "source": [
    "## Table of Contents\n",
    "This lab is broken out into two parts, each with four separate notebooks. In the first part, our focus is primarily on learning how to build a video AI application. In the second part of the lab, we will learn to fine-tune and optimize a video AI application. This hands-on lab will provide opportunities to get familiar with each step in the development workflow that will enable you to make modifications that is most appropriate for your own use case. \n",
    "\n",
    "**Part 1**: \n",
    "\n",
    "1. Introduction to Real-Time Video AI Applications\n",
    "2. Introduction to the DeepStream SDK\n",
    "3. Building a DeepStream Application\n",
    "4. Building a Multi-DNN DeepStream Application\n",
    "\n",
    "**Part 2**: \n",
    "1. Introduction to the TAO Toolkit\n",
    "2. Preparing for Model Training\n",
    "3. Model Training with the TAO Toolkit\n",
    "4. Optimizing a Video AI Application"
   ]
  },
  {
   "cell_type": "markdown",
   "metadata": {},
   "source": [
    "### JupyterLab ###\n",
    "For this hands-on lab, we use [JupyterLab](https://jupyterlab.readthedocs.io/en/stable/) to manage our environment.  The [JupyterLab Interface](https://jupyterlab.readthedocs.io/en/stable/user/interface.html) is a dashboard that provides access to interactive iPython notebooks, as well as the folder structure of our environment and a terminal window into the Ubuntu operating system. The first view you will see includes a **menu bar** at the top, a **file browser** in the **left sidebar**, and a **main work area** that is initially open to this \"introduction\" notebook. \n",
    "<p><img src=\"images/jl_launcher.png\"></p>\n",
    "\n",
    "* The file browser can be navigated just like any other file explorer. A double click on any of the items will open a new tab with its content. \n",
    "* The main work area includes tabbed views of open files that can be closed, moved, and edited as needed. \n",
    "* The notebooks, including this one, consist of a series of content and code **cells**. To execute code in a code cell, press `Shift+Enter` or the `Run` button in the menu bar above, while a cell is highlighted. Sometimes, a content cell will get switched to editing mode. Executing the cell with `Shift+Enter` or the `Run` button will switch it back to a readable form.\n",
    "* To interrupt cell execution, click the `Stop` button in the menu bar or navigate to the `Kernel` menu, and select `Interrupt`. \n",
    "* We can use terminal commands in the notebook cells by prepending an exclamation point/bang(`!`) to the beginning of the command. "
   ]
  },
  {
   "cell_type": "markdown",
   "metadata": {},
   "source": [
    "<a name='e1'></a>\n",
    "#### Exercise #1 - Practice ####\n",
    "Try executing the simple print statement in the cell below."
   ]
  },
  {
   "cell_type": "code",
   "execution_count": null,
   "metadata": {},
   "outputs": [],
   "source": [
    "# DO NOT CHANGE THIS CELL\n",
    "# Activate this cell by selecting it with the mouse or arrow keys then use the keyboard shortcut [Shift+Enter] to execute\n",
    "print('This is just a simple print statement')"
   ]
  },
  {
   "cell_type": "markdown",
   "metadata": {},
   "source": [
    "Now try executing the terminal command in the cell below."
   ]
  },
  {
   "cell_type": "code",
   "execution_count": null,
   "metadata": {},
   "outputs": [],
   "source": [
    "# DO NOT CHANGE THIS CELL\n",
    "# Activate this cell by selecting it with the mouse or arrow keys then use the keyboard shortcut [Shift+Enter] to execute\n",
    "!echo 'This is another simple print statement'"
   ]
  },
  {
   "cell_type": "markdown",
   "metadata": {},
   "source": [
    "### NVIDIA GPU Cloud ###\n",
    "This lab requires that the user have an NVIDIA GPU Cloud (NGC) account and API key.  If you have not done so already, please: \n",
    "1. [Register and activate a free NGC account](https://docs.nvidia.com/ngc/ngc-overview/index.html#registering-activating-ngc-account)\n",
    "2. [Generate your NGC API key](https://docs.nvidia.com/ngc/ngc-overview/index.html#generating-api-key) and save it in a safe location"
   ]
  },
  {
   "cell_type": "markdown",
   "metadata": {},
   "source": [
    "<a name='e2'></a>\n",
    "#### Exercise #2 - NGC CLI Configuration ####\n",
    "\n",
    "**Instructions**: <br>\n",
    "* Edit the following cell by replacing `<MY_NGC_API_KEY>` with your key and execute to the cell to create a configuration file for NGC. \n",
    "* Execute the cell below to move the newly created config file to `.ngc` to configure the NGC CLI. "
   ]
  },
  {
   "cell_type": "code",
   "execution_count": null,
   "metadata": {},
   "outputs": [],
   "source": [
    "%%writefile config\n",
    ";WARNING - This is a machine generated file.  Do not edit manually.\n",
    ";WARNING - To update local config settings, see \"ngc config set -h\"\n",
    "\n",
    "[CURRENT]\n",
    "apikey=<<<<MY_NGC_API_KEY>>>>\n",
    "format_type=json\n",
    "org=nvidia"
   ]
  },
  {
   "cell_type": "code",
   "execution_count": null,
   "metadata": {},
   "outputs": [],
   "source": [
    "# DO NOT CHANGE THIS CELL\n",
    "!mkdir -p ~/.ngc & mv config ~/.ngc/"
   ]
  },
  {
   "cell_type": "markdown",
   "metadata": {},
   "source": [
    "**Well Done!** When you're ready, let's move to the [next notebook](./01_introduction_to_real-time_video_AI_applications.ipynb). "
   ]
  },
  {
   "cell_type": "markdown",
   "metadata": {},
   "source": [
    "<a href=\"https://www.nvidia.com/dli\"> <img src=\"images/DLI_Header.png\" alt=\"Header\" style=\"width: 400px;\"/> </a>"
   ]
  }
 ],
 "metadata": {
  "kernelspec": {
   "display_name": "Python 3",
   "language": "python",
   "name": "python3"
  },
  "language_info": {
   "codemirror_mode": {
    "name": "ipython",
    "version": 3
   },
   "file_extension": ".py",
   "mimetype": "text/x-python",
   "name": "python",
   "nbconvert_exporter": "python",
   "pygments_lexer": "ipython3",
   "version": "3.6.9"
  }
 },
 "nbformat": 4,
 "nbformat_minor": 4
}
